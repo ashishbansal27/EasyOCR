{
 "cells": [
  {
   "cell_type": "code",
   "execution_count": 1,
   "metadata": {},
   "outputs": [
    {
     "name": "stdout",
     "output_type": "stream",
     "text": [
      "Collecting package metadata (current_repodata.json): done\n",
      "Solving environment: done\n",
      "\n",
      "## Package Plan ##\n",
      "\n",
      "  environment location: /home/ashish/anaconda3\n",
      "\n",
      "  added / updated specs:\n",
      "    - cpuonly\n",
      "    - pytorch\n",
      "    - torchaudio\n",
      "    - torchvision\n",
      "\n",
      "\n",
      "The following packages will be downloaded:\n",
      "\n",
      "    package                    |            build\n",
      "    ---------------------------|-----------------\n",
      "    cpuonly-1.0                |                0           2 KB  pytorch\n",
      "    ffmpeg-4.3                 |       hf484d3e_0         9.9 MB  pytorch\n",
      "    gnutls-3.6.5               |    h71b1129_1002         1.6 MB\n",
      "    lame-3.100                 |       h7b6447c_0         323 KB\n",
      "    libiconv-1.15              |       h63c8f33_5         721 KB\n",
      "    libuv-1.40.0               |       h7b6447c_0         736 KB\n",
      "    nettle-3.4.1               |       hbb512f6_0         5.0 MB\n",
      "    ninja-1.10.2               |   py38hff7bd54_0         1.4 MB\n",
      "    openh264-2.1.0             |       hd408876_0         722 KB\n",
      "    pytorch-1.8.0              |      py3.8_cpu_0        66.0 MB  pytorch\n",
      "    torchaudio-0.8.0           |             py38         4.4 MB  pytorch\n",
      "    torchvision-0.9.0          |         py38_cpu        21.9 MB  pytorch\n",
      "    ------------------------------------------------------------\n",
      "                                           Total:       112.8 MB\n",
      "\n",
      "The following NEW packages will be INSTALLED:\n",
      "\n",
      "  cpuonly            pytorch/noarch::cpuonly-1.0-0\n",
      "  ffmpeg             pytorch/linux-64::ffmpeg-4.3-hf484d3e_0\n",
      "  gnutls             pkgs/main/linux-64::gnutls-3.6.5-h71b1129_1002\n",
      "  lame               pkgs/main/linux-64::lame-3.100-h7b6447c_0\n",
      "  libiconv           pkgs/main/linux-64::libiconv-1.15-h63c8f33_5\n",
      "  libuv              pkgs/main/linux-64::libuv-1.40.0-h7b6447c_0\n",
      "  nettle             pkgs/main/linux-64::nettle-3.4.1-hbb512f6_0\n",
      "  ninja              pkgs/main/linux-64::ninja-1.10.2-py38hff7bd54_0\n",
      "  openh264           pkgs/main/linux-64::openh264-2.1.0-hd408876_0\n",
      "  pytorch            pytorch/linux-64::pytorch-1.8.0-py3.8_cpu_0\n",
      "  torchaudio         pytorch/linux-64::torchaudio-0.8.0-py38\n",
      "  torchvision        pytorch/linux-64::torchvision-0.9.0-py38_cpu\n",
      "\n",
      "\n",
      "\n",
      "Downloading and Extracting Packages\n",
      "openh264-2.1.0       | 722 KB    | ##################################### | 100% \n",
      "lame-3.100           | 323 KB    | ##################################### | 100% \n",
      "gnutls-3.6.5         | 1.6 MB    | ##################################### | 100% \n",
      "ninja-1.10.2         | 1.4 MB    | ##################################### | 100% \n",
      "nettle-3.4.1         | 5.0 MB    | ##################################### | 100% \n",
      "pytorch-1.8.0        | 66.0 MB   | ##################################### | 100% \n",
      "ffmpeg-4.3           | 9.9 MB    | ##################################### | 100% \n",
      "torchaudio-0.8.0     | 4.4 MB    | ##################################### | 100% \n",
      "torchvision-0.9.0    | 21.9 MB   | ##################################### | 100% \n",
      "libuv-1.40.0         | 736 KB    | ##################################### | 100% \n",
      "cpuonly-1.0          | 2 KB      | ##################################### | 100% \n",
      "libiconv-1.15        | 721 KB    | ##################################### | 100% \n",
      "Preparing transaction: done\n",
      "Verifying transaction: done\n",
      "Executing transaction: done\n",
      "\n",
      "Note: you may need to restart the kernel to use updated packages.\n"
     ]
    }
   ],
   "source": [
    "conda install pytorch torchvision torchaudio cpuonly -c pytorch"
   ]
  },
  {
   "cell_type": "code",
   "execution_count": 2,
   "metadata": {
    "scrolled": true
   },
   "outputs": [
    {
     "name": "stdout",
     "output_type": "stream",
     "text": [
      "Collecting easyocr\n",
      "  Downloading easyocr-1.2.5.1-py3-none-any.whl (62.3 MB)\n",
      "\u001b[K     |████████████████████████████████| 62.3 MB 162 kB/s eta 0:00:01\n",
      "\u001b[?25hRequirement already satisfied: scipy in /home/ashish/anaconda3/lib/python3.8/site-packages (from easyocr) (1.5.2)\n",
      "Requirement already satisfied: torch in /home/ashish/anaconda3/lib/python3.8/site-packages (from easyocr) (1.8.0)\n",
      "Requirement already satisfied: scikit-image in /home/ashish/anaconda3/lib/python3.8/site-packages (from easyocr) (0.17.2)\n",
      "Requirement already satisfied: numpy in /home/ashish/anaconda3/lib/python3.8/site-packages (from easyocr) (1.19.2)\n",
      "Requirement already satisfied: Pillow in /home/ashish/anaconda3/lib/python3.8/site-packages (from easyocr) (8.0.1)\n",
      "Requirement already satisfied: torchvision>=0.5 in /home/ashish/anaconda3/lib/python3.8/site-packages (from easyocr) (0.9.0)\n",
      "Collecting python-bidi\n",
      "  Downloading python_bidi-0.4.2-py2.py3-none-any.whl (30 kB)\n",
      "Collecting opencv-python\n",
      "  Downloading opencv_python-4.5.1.48-cp38-cp38-manylinux2014_x86_64.whl (50.4 MB)\n",
      "\u001b[K     |████████████████████████████████| 50.4 MB 209 kB/s eta 0:00:01\n",
      "\u001b[?25hRequirement already satisfied: PyYAML in /home/ashish/anaconda3/lib/python3.8/site-packages (from easyocr) (5.3.1)\n",
      "Requirement already satisfied: typing_extensions in /home/ashish/anaconda3/lib/python3.8/site-packages (from torch->easyocr) (3.7.4.3)\n",
      "Requirement already satisfied: matplotlib!=3.0.0,>=2.0.0 in /home/ashish/anaconda3/lib/python3.8/site-packages (from scikit-image->easyocr) (3.3.2)\n",
      "Requirement already satisfied: networkx>=2.0 in /home/ashish/anaconda3/lib/python3.8/site-packages (from scikit-image->easyocr) (2.5)\n",
      "Requirement already satisfied: imageio>=2.3.0 in /home/ashish/anaconda3/lib/python3.8/site-packages (from scikit-image->easyocr) (2.9.0)\n",
      "Requirement already satisfied: tifffile>=2019.7.26 in /home/ashish/anaconda3/lib/python3.8/site-packages (from scikit-image->easyocr) (2020.10.1)\n",
      "Requirement already satisfied: PyWavelets>=1.1.1 in /home/ashish/anaconda3/lib/python3.8/site-packages (from scikit-image->easyocr) (1.1.1)\n",
      "Requirement already satisfied: six in /home/ashish/anaconda3/lib/python3.8/site-packages (from python-bidi->easyocr) (1.15.0)\n",
      "Requirement already satisfied: kiwisolver>=1.0.1 in /home/ashish/anaconda3/lib/python3.8/site-packages (from matplotlib!=3.0.0,>=2.0.0->scikit-image->easyocr) (1.3.0)\n",
      "Requirement already satisfied: pyparsing!=2.0.4,!=2.1.2,!=2.1.6,>=2.0.3 in /home/ashish/anaconda3/lib/python3.8/site-packages (from matplotlib!=3.0.0,>=2.0.0->scikit-image->easyocr) (2.4.7)\n",
      "Requirement already satisfied: certifi>=2020.06.20 in /home/ashish/anaconda3/lib/python3.8/site-packages (from matplotlib!=3.0.0,>=2.0.0->scikit-image->easyocr) (2020.6.20)\n",
      "Requirement already satisfied: python-dateutil>=2.1 in /home/ashish/anaconda3/lib/python3.8/site-packages (from matplotlib!=3.0.0,>=2.0.0->scikit-image->easyocr) (2.8.1)\n",
      "Requirement already satisfied: cycler>=0.10 in /home/ashish/anaconda3/lib/python3.8/site-packages (from matplotlib!=3.0.0,>=2.0.0->scikit-image->easyocr) (0.10.0)\n",
      "Requirement already satisfied: decorator>=4.3.0 in /home/ashish/anaconda3/lib/python3.8/site-packages (from networkx>=2.0->scikit-image->easyocr) (4.4.2)\n",
      "Installing collected packages: python-bidi, opencv-python, easyocr\n",
      "Successfully installed easyocr-1.2.5.1 opencv-python-4.5.1.48 python-bidi-0.4.2\n",
      "Note: you may need to restart the kernel to use updated packages.\n"
     ]
    }
   ],
   "source": [
    "pip install easyocr"
   ]
  },
  {
   "cell_type": "code",
   "execution_count": 2,
   "metadata": {},
   "outputs": [],
   "source": [
    "import easyocr\n",
    "import cv2\n",
    "from matplotlib import pyplot as plt\n",
    "import numpy as np"
   ]
  },
  {
   "cell_type": "code",
   "execution_count": 23,
   "metadata": {},
   "outputs": [],
   "source": [
    "IMAGE_PATH = '00011.jpg'"
   ]
  },
  {
   "cell_type": "code",
   "execution_count": 24,
   "metadata": {},
   "outputs": [
    {
     "name": "stderr",
     "output_type": "stream",
     "text": [
      "CUDA not available - defaulting to CPU. Note: This module is much faster with a GPU.\n"
     ]
    },
    {
     "data": {
      "text/plain": [
       "[([[182, 174], [654, 174], [654, 228], [182, 228]],\n",
       "  'Starbucks Coffee #16839',\n",
       "  0.7311040072225761),\n",
       " ([[182, 226], [274, 226], [274, 274], [182, 274]],\n",
       "  'Pier',\n",
       "  0.9999179840087891),\n",
       " ([[291, 235], [305, 235], [305, 267], [291, 267]], '', 0.0),\n",
       " ([[364, 226], [674, 226], [674, 276], [364, 276]],\n",
       "  'The Embarcadero',\n",
       "  0.7067612131742148),\n",
       " ([[122, 276], [410, 276], [410, 328], [122, 328]],\n",
       "  'San Francisco,',\n",
       "  0.9622362893264772),\n",
       " ([[422, 276], [472, 276], [472, 324], [422, 324]], 'CA', 0.9746907486354236),\n",
       " ([[484, 278], [734, 278], [734, 326], [484, 326]],\n",
       "  '415-956-3953',\n",
       "  0.9800257269234588),\n",
       " ([[322, 374], [534, 374], [534, 422], [322, 422]],\n",
       "  'CIK 731564',\n",
       "  0.26185272338503307),\n",
       " ([[220, 422], [614, 422], [614, 476], [220, 476]],\n",
       "  '05/12/2019 10:20 AM',\n",
       "  0.5041001484078576),\n",
       " ([[142, 472], [294, 472], [294, 522], [142, 522]],\n",
       "  '2629940',\n",
       "  0.9997989947519267),\n",
       " ([[342, 477], [488, 477], [488, 521], [342, 521]],\n",
       "  'Orauer:',\n",
       "  0.8353472584298622),\n",
       " ([[509, 483], [525, 483], [525, 515], [509, 515]],\n",
       "  'r',\n",
       "  0.0030934264891313706),\n",
       " ([[557, 472], [652, 472], [652, 529], [557, 529]],\n",
       "  'Reg:',\n",
       "  0.7370535135269165),\n",
       " ([[664, 480], [688, 480], [688, 518], [664, 518]], '2', 0.6906009728627538),\n",
       " ([[82, 574], [254, 574], [254, 622], [82, 622]],\n",
       "  'It Latte',\n",
       "  0.7026638290528525),\n",
       " ([[643, 577], [731, 577], [731, 621], [643, 621]],\n",
       "  '4,55',\n",
       "  0.7821654486127074),\n",
       " ([[81, 621], [293, 621], [293, 669], [81, 669]],\n",
       "  'Mastercard',\n",
       "  0.9981156114649026),\n",
       " ([[642, 624], [732, 624], [732, 672], [642, 672]],\n",
       "  '4.55',\n",
       "  0.6607009670437469),\n",
       " ([[80, 670], [414, 670], [414, 722], [80, 722]],\n",
       "  'KXXXXXXXX)XX2825',\n",
       "  0.3662556328519355),\n",
       " ([[80, 770], [250, 770], [250, 818], [80, 818]],\n",
       "  'Subtota|',\n",
       "  0.7872726358359982),\n",
       " ([[597, 769], [712, 769], [712, 822], [597, 822]],\n",
       "  '$4.55',\n",
       "  0.9863550696721364),\n",
       " ([[82, 818], [190, 818], [190, 868], [82, 868]], 'Tota|', 0.560283721827449),\n",
       " ([[598, 820], [712, 820], [712, 870], [598, 870]],\n",
       "  '$4.55',\n",
       "  0.6038312511504311),\n",
       " ([[20, 864], [271, 864], [271, 926], [20, 926]],\n",
       "  'Change',\n",
       "  0.9944979536407424),\n",
       " ([[302, 868], [428, 868], [428, 918], [302, 918]], 'Due', 0.9998751515592318),\n",
       " ([[620, 866], [719, 866], [719, 923], [620, 923]], '$o', 0.4277436506441501),\n",
       " ([[740, 868], [828, 868], [828, 920], [740, 920]], 'Oo', 0.3998628640327932),\n",
       " ([[259, 966], [514, 966], [514, 1016], [259, 1016]],\n",
       "  'Check Closed',\n",
       "  0.7944103190463838),\n",
       " ([[218, 1011], [613, 1011], [613, 1072], [218, 1072]],\n",
       "  '05/12/2019 10:20 A|',\n",
       "  0.290366959799634),\n",
       " ([[179, 1255], [673, 1255], [673, 1315], [179, 1315]],\n",
       "  'Join our loyalty program',\n",
       "  0.6919626965549974),\n",
       " ([[240, 1306], [612, 1306], [612, 1356], [240, 1356]],\n",
       "  'Starbucks Rewardse',\n",
       "  0.6773798602515851),\n",
       " ([[120, 1357], [586, 1357], [586, 1410], [120, 1410]],\n",
       "  'Sign up for promot iona|',\n",
       "  0.6722676909428367),\n",
       " ([[598, 1360], [732, 1360], [732, 1408], [598, 1408]],\n",
       "  'emails',\n",
       "  0.9658824571689214),\n",
       " ([[137, 1405], [690, 1405], [690, 1456], [137, 1456]],\n",
       "  'lisit Starbucks con J rewards',\n",
       "  0.27823621875873034),\n",
       " ([[218, 1456], [610, 1456], [610, 1510], [218, 1510]],\n",
       "  'Or dounload our app',\n",
       "  0.6941632876897582),\n",
       " ([[180, 1502], [650, 1502], [650, 1558], [180, 1558]],\n",
       "  'At participating stores',\n",
       "  0.824645988838042),\n",
       " ([[178, 1554], [650, 1554], [650, 1608], [178, 1608]],\n",
       "  'Some restrictions apply',\n",
       "  0.6687637510955424)]"
      ]
     },
     "execution_count": 24,
     "metadata": {},
     "output_type": "execute_result"
    }
   ],
   "source": [
    "reader = easyocr.Reader(['en'])\n",
    "result = reader.readtext(IMAGE_PATH)\n",
    "result"
   ]
  },
  {
   "cell_type": "code",
   "execution_count": 25,
   "metadata": {},
   "outputs": [
    {
     "data": {
      "image/png": "[encoded data removed]",
      "text/plain": [
       "<Figure size 432x288 with 1 Axes>"
      ]
     },
     "metadata": {
      "needs_background": "light"
     },
     "output_type": "display_data"
    }
   ],
   "source": [
    "img = cv2.imread(IMAGE_PATH)\n",
    "spacer = 100\n",
    "for detection in result: \n",
    "    top_left = tuple(detection[0][0])\n",
    "    bottom_right = tuple(detection[0][2])\n",
    "    text = detection[1]\n",
    "    img = cv2.rectangle(img,top_left,bottom_right,(0,255,0),3)\n",
    "    img = cv2.putText(img,text,(20,spacer), font, 0.5,(0,255,0),2,cv2.LINE_AA)\n",
    "    spacer+=15\n",
    "    \n",
    "plt.imshow(img)\n",
    "plt.show()"
   ]
  },
  {
   "cell_type": "code",
   "execution_count": 12,
   "metadata": {},
   "outputs": [],
   "source": [
    "font = cv2.FONT_HERSHEY_SIMPLEX"
   ]
  },
  {
   "cell_type": "code",
   "execution_count": null,
   "metadata": {},
   "outputs": [],
   "source": []
  }
 ],
 "metadata": {
  "kernelspec": {
   "display_name": "Python 3",
   "language": "python",
   "name": "python3"
  },
  "language_info": {
   "codemirror_mode": {
    "name": "ipython",
    "version": 3
   },
   "file_extension": ".py",
   "mimetype": "text/x-python",
   "name": "python",
   "nbconvert_exporter": "python",
   "pygments_lexer": "ipython3",
   "version": "3.8.5"
  }
 },
 "nbformat": 4,
 "nbformat_minor": 4
}
